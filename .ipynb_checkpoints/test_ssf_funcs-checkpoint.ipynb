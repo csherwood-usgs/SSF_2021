{
 "cells": [
  {
   "cell_type": "code",
   "execution_count": 1,
   "metadata": {},
   "outputs": [
    {
     "name": "stdout",
     "output_type": "stream",
     "text": [
      "Running tests on calcmean from notebook\n",
      "input array:  [ 1.  2.  3. nan]\n",
      "calcmean(a) =  nan\n",
      "calcmean(a,nans=True) =  2.0\n"
     ]
    }
   ],
   "source": [
    "from ssf_funcs import *\n",
    "\n",
    "print('Running tests on calcmean from notebook')\n",
    "a =np.array((1., 2, 3., np.nan))\n",
    "print('input array: ',a)\n",
    "print('calcmean(a) = ',calcmean(a))\n",
    "print('calcmean(a,nans=True) = ',calcmean(a,nans=True))"
   ]
  }
 ],
 "metadata": {
  "kernelspec": {
   "display_name": "Python 3",
   "language": "python",
   "name": "python3"
  },
  "language_info": {
   "codemirror_mode": {
    "name": "ipython",
    "version": 3
   },
   "file_extension": ".py",
   "mimetype": "text/x-python",
   "name": "python",
   "nbconvert_exporter": "python",
   "pygments_lexer": "ipython3",
   "version": "3.7.6"
  }
 },
 "nbformat": 4,
 "nbformat_minor": 4
}
